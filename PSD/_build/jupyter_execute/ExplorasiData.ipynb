{
 "cells": [
  {
   "cell_type": "markdown",
   "metadata": {},
   "source": [
    "# Eksplorasi Data\n",
    "\n",
    "Notebook ini berisi analisis eksplorasi data untuk dataset Iris yang mencakup:\n",
    "- Nilai minimum dan maksimum dari setiap kolom\n",
    "- Rata-rata dari setiap kolom\n",
    "- Jumlah setiap kelas yang ditampilkan dalam grafik batang"
   ]
  },
  {
   "cell_type": "code",
   "execution_count": 1,
   "metadata": {},
   "outputs": [],
   "source": [
    "# Import library yang diperlukan\n",
    "import pandas as pd\n",
    "import numpy as np\n",
    "import matplotlib.pyplot as plt\n",
    "import seaborn as sns\n",
    "\n",
    "# Set style untuk visualisasi\n",
    "plt.style.use('default')\n",
    "sns.set_palette(\"husl\")"
   ]
  },
  {
   "cell_type": "code",
   "execution_count": 2,
   "metadata": {},
   "outputs": [
    {
     "name": "stdout",
     "output_type": "stream",
     "text": [
      "Informasi Dataset:\n",
      "Jumlah baris: 150\n",
      "Jumlah kolom: 6\n",
      "\n",
      "Nama kolom:\n",
      "['id', 'Class', 'sepal length', 'sepal width', 'petal length', 'petal width']\n"
     ]
    }
   ],
   "source": [
    "# Load data dari file CSV\n",
    "# Menggunakan delimiter ';' dan mengganti koma dengan titik untuk decimal\n",
    "df = pd.read_csv('data_iris.csv', delimiter=';')\n",
    "\n",
    "# Tampilkan informasi dasar tentang dataset\n",
    "print(\"Informasi Dataset:\")\n",
    "print(f\"Jumlah baris: {len(df)}\")\n",
    "print(f\"Jumlah kolom: {len(df.columns)}\")\n",
    "print(\"\\nNama kolom:\")\n",
    "print(df.columns.tolist())"
   ]
  },
  {
   "cell_type": "code",
   "execution_count": 3,
   "metadata": {},
   "outputs": [
    {
     "name": "stdout",
     "output_type": "stream",
     "text": [
      "5 Baris Pertama Data:\n"
     ]
    },
    {
     "data": {
      "text/html": [
       "<div>\n",
       "<style scoped>\n",
       "    .dataframe tbody tr th:only-of-type {\n",
       "        vertical-align: middle;\n",
       "    }\n",
       "\n",
       "    .dataframe tbody tr th {\n",
       "        vertical-align: top;\n",
       "    }\n",
       "\n",
       "    .dataframe thead th {\n",
       "        text-align: right;\n",
       "    }\n",
       "</style>\n",
       "<table border=\"1\" class=\"dataframe\">\n",
       "  <thead>\n",
       "    <tr style=\"text-align: right;\">\n",
       "      <th></th>\n",
       "      <th>id</th>\n",
       "      <th>Class</th>\n",
       "      <th>sepal length</th>\n",
       "      <th>sepal width</th>\n",
       "      <th>petal length</th>\n",
       "      <th>petal width</th>\n",
       "    </tr>\n",
       "  </thead>\n",
       "  <tbody>\n",
       "    <tr>\n",
       "      <th>0</th>\n",
       "      <td>1</td>\n",
       "      <td>Iris-setosa</td>\n",
       "      <td>5,1</td>\n",
       "      <td>3,5</td>\n",
       "      <td>1,4</td>\n",
       "      <td>0,2</td>\n",
       "    </tr>\n",
       "    <tr>\n",
       "      <th>1</th>\n",
       "      <td>2</td>\n",
       "      <td>Iris-setosa</td>\n",
       "      <td>4,9</td>\n",
       "      <td>3</td>\n",
       "      <td>1,4</td>\n",
       "      <td>0,2</td>\n",
       "    </tr>\n",
       "    <tr>\n",
       "      <th>2</th>\n",
       "      <td>3</td>\n",
       "      <td>Iris-setosa</td>\n",
       "      <td>4,7</td>\n",
       "      <td>3,2</td>\n",
       "      <td>1,3</td>\n",
       "      <td>0,2</td>\n",
       "    </tr>\n",
       "    <tr>\n",
       "      <th>3</th>\n",
       "      <td>4</td>\n",
       "      <td>Iris-setosa</td>\n",
       "      <td>4,6</td>\n",
       "      <td>3,1</td>\n",
       "      <td>1,5</td>\n",
       "      <td>0,2</td>\n",
       "    </tr>\n",
       "    <tr>\n",
       "      <th>4</th>\n",
       "      <td>5</td>\n",
       "      <td>Iris-setosa</td>\n",
       "      <td>5</td>\n",
       "      <td>3,6</td>\n",
       "      <td>1,4</td>\n",
       "      <td>0,2</td>\n",
       "    </tr>\n",
       "  </tbody>\n",
       "</table>\n",
       "</div>"
      ],
      "text/plain": [
       "   id        Class sepal length sepal width petal length petal width\n",
       "0   1  Iris-setosa          5,1         3,5          1,4         0,2\n",
       "1   2  Iris-setosa          4,9           3          1,4         0,2\n",
       "2   3  Iris-setosa          4,7         3,2          1,3         0,2\n",
       "3   4  Iris-setosa          4,6         3,1          1,5         0,2\n",
       "4   5  Iris-setosa            5         3,6          1,4         0,2"
      ]
     },
     "execution_count": 3,
     "metadata": {},
     "output_type": "execute_result"
    }
   ],
   "source": [
    "# Tampilkan 5 baris pertama data\n",
    "print(\"5 Baris Pertama Data:\")\n",
    "df.head()"
   ]
  },
  {
   "cell_type": "code",
   "execution_count": 4,
   "metadata": {},
   "outputs": [
    {
     "name": "stdout",
     "output_type": "stream",
     "text": [
      "Data setelah konversi:\n"
     ]
    },
    {
     "data": {
      "text/html": [
       "<div>\n",
       "<style scoped>\n",
       "    .dataframe tbody tr th:only-of-type {\n",
       "        vertical-align: middle;\n",
       "    }\n",
       "\n",
       "    .dataframe tbody tr th {\n",
       "        vertical-align: top;\n",
       "    }\n",
       "\n",
       "    .dataframe thead th {\n",
       "        text-align: right;\n",
       "    }\n",
       "</style>\n",
       "<table border=\"1\" class=\"dataframe\">\n",
       "  <thead>\n",
       "    <tr style=\"text-align: right;\">\n",
       "      <th></th>\n",
       "      <th>id</th>\n",
       "      <th>Class</th>\n",
       "      <th>sepal length</th>\n",
       "      <th>sepal width</th>\n",
       "      <th>petal length</th>\n",
       "      <th>petal width</th>\n",
       "    </tr>\n",
       "  </thead>\n",
       "  <tbody>\n",
       "    <tr>\n",
       "      <th>0</th>\n",
       "      <td>1</td>\n",
       "      <td>Iris-setosa</td>\n",
       "      <td>5.1</td>\n",
       "      <td>3.5</td>\n",
       "      <td>1.4</td>\n",
       "      <td>0.2</td>\n",
       "    </tr>\n",
       "    <tr>\n",
       "      <th>1</th>\n",
       "      <td>2</td>\n",
       "      <td>Iris-setosa</td>\n",
       "      <td>4.9</td>\n",
       "      <td>3.0</td>\n",
       "      <td>1.4</td>\n",
       "      <td>0.2</td>\n",
       "    </tr>\n",
       "    <tr>\n",
       "      <th>2</th>\n",
       "      <td>3</td>\n",
       "      <td>Iris-setosa</td>\n",
       "      <td>4.7</td>\n",
       "      <td>3.2</td>\n",
       "      <td>1.3</td>\n",
       "      <td>0.2</td>\n",
       "    </tr>\n",
       "    <tr>\n",
       "      <th>3</th>\n",
       "      <td>4</td>\n",
       "      <td>Iris-setosa</td>\n",
       "      <td>4.6</td>\n",
       "      <td>3.1</td>\n",
       "      <td>1.5</td>\n",
       "      <td>0.2</td>\n",
       "    </tr>\n",
       "    <tr>\n",
       "      <th>4</th>\n",
       "      <td>5</td>\n",
       "      <td>Iris-setosa</td>\n",
       "      <td>5.0</td>\n",
       "      <td>3.6</td>\n",
       "      <td>1.4</td>\n",
       "      <td>0.2</td>\n",
       "    </tr>\n",
       "  </tbody>\n",
       "</table>\n",
       "</div>"
      ],
      "text/plain": [
       "   id        Class  sepal length  sepal width  petal length  petal width\n",
       "0   1  Iris-setosa           5.1          3.5           1.4          0.2\n",
       "1   2  Iris-setosa           4.9          3.0           1.4          0.2\n",
       "2   3  Iris-setosa           4.7          3.2           1.3          0.2\n",
       "3   4  Iris-setosa           4.6          3.1           1.5          0.2\n",
       "4   5  Iris-setosa           5.0          3.6           1.4          0.2"
      ]
     },
     "execution_count": 4,
     "metadata": {},
     "output_type": "execute_result"
    }
   ],
   "source": [
    "# Konversi kolom numerik yang menggunakan koma sebagai decimal separator\n",
    "numeric_columns = ['sepal length', 'sepal width', 'petal length', 'petal width']\n",
    "\n",
    "for col in numeric_columns:\n",
    "    if col in df.columns:\n",
    "        # Konversi koma ke titik untuk decimal\n",
    "        df[col] = df[col].astype(str).str.replace(',', '.').astype(float)\n",
    "\n",
    "print(\"Data setelah konversi:\")\n",
    "df.head()"
   ]
  },
  {
   "cell_type": "markdown",
   "metadata": {},
   "source": [
    "## Analisis Jenis Variabel\n",
    "\n",
    "Bagian ini menganalisis klasifikasi jenis variabel dalam dataset berdasarkan teori statistik."
   ]
  },
  {
   "cell_type": "code",
   "execution_count": 5,
   "metadata": {},
   "outputs": [
    {
     "name": "stdout",
     "output_type": "stream",
     "text": [
      "=== KLASIFIKASI JENIS VARIABEL ===\n",
      "\n",
      " Teori Jenis Variabel:\n",
      "• Quantitative (Numerik): Nilai angka, bisa dihitung\n",
      "• Qualitative (Kategorikal/Faktor): Klasifikasi atau kategori\n",
      "• Discrete: Nilai terpisah (tanpa nilai antara)\n",
      "• Continuous: Nilai kontinu (bisa pecahan)\n",
      "\n",
      "============================================================\n",
      "            ANALISIS VARIABEL DATASET IRIS\n",
      "============================================================\n",
      "\n",
      "1.  VARIABEL: SEPAL LENGTH\n",
      "   • Tipe Data: float64\n",
      "   • Jenis Variabel: Quantitative (Numerik)\n",
      "   • Sub-kategori: Continuous\n",
      "   • Deskripsi: Nilai kontinu, bisa berupa pecahan\n",
      "   • Contoh nilai: [5.1, 4.9, 4.7]\n",
      "   • Rentang: 4.3 - 7.9 cm\n",
      "   ----------------------------------------\n",
      "\n",
      "2.  VARIABEL: SEPAL WIDTH\n",
      "   • Tipe Data: float64\n",
      "   • Jenis Variabel: Quantitative (Numerik)\n",
      "   • Sub-kategori: Continuous\n",
      "   • Deskripsi: Nilai kontinu, bisa berupa pecahan\n",
      "   • Contoh nilai: [3.5, 3.0, 3.2]\n",
      "   • Rentang: 2.0 - 4.4 cm\n",
      "   ----------------------------------------\n",
      "\n",
      "3.  VARIABEL: PETAL LENGTH\n",
      "   • Tipe Data: float64\n",
      "   • Jenis Variabel: Quantitative (Numerik)\n",
      "   • Sub-kategori: Continuous\n",
      "   • Deskripsi: Nilai kontinu, bisa berupa pecahan\n",
      "   • Contoh nilai: [1.4, 1.4, 1.3]\n",
      "   • Rentang: 1.0 - 6.9 cm\n",
      "   ----------------------------------------\n",
      "\n",
      "4.  VARIABEL: PETAL WIDTH\n",
      "   • Tipe Data: float64\n",
      "   • Jenis Variabel: Quantitative (Numerik)\n",
      "   • Sub-kategori: Continuous\n",
      "   • Deskripsi: Nilai kontinu, bisa berupa pecahan\n",
      "   • Contoh nilai: [0.2, 0.2, 0.2]\n",
      "   • Rentang: 0.1 - 2.5 cm\n",
      "   ----------------------------------------\n",
      "\n",
      "5.  VARIABEL: CLASS\n",
      "   • Tipe Data: object\n",
      "   • Jenis Variabel: Qualitative (Kategorikal)\n",
      "   • Sub-kategori: Discrete (Nominal)\n",
      "   • Deskripsi: Kategori nama spesies, tidak ada urutan\n",
      "   • Contoh nilai: ['Iris-setosa', 'Iris-versicolor', 'Iris-virginica']\n",
      "   • Rentang: 3 kategori\n",
      "   ----------------------------------------\n"
     ]
    }
   ],
   "source": [
    "# Analisis jenis variabel berdasarkan klasifikasi\n",
    "print(\"=== KLASIFIKASI JENIS VARIABEL ===\")\n",
    "print(\"\\n Teori Jenis Variabel:\")\n",
    "print(\"• Quantitative (Numerik): Nilai angka, bisa dihitung\")\n",
    "print(\"• Qualitative (Kategorikal/Faktor): Klasifikasi atau kategori\")\n",
    "print(\"• Discrete: Nilai terpisah (tanpa nilai antara)\")\n",
    "print(\"• Continuous: Nilai kontinu (bisa pecahan)\")\n",
    "\n",
    "print(\"\\n\" + \"=\"*60)\n",
    "print(\"            ANALISIS VARIABEL DATASET IRIS\")\n",
    "print(\"=\"*60)\n",
    "\n",
    "# Analisis setiap variabel\n",
    "variable_analysis = {\n",
    "    'sepal length': {\n",
    "        'tipe_data': str(df['sepal length'].dtype),\n",
    "        'jenis_variabel': 'Quantitative (Numerik)',\n",
    "        'sub_kategori': 'Continuous',\n",
    "        'deskripsi': 'Nilai kontinu, bisa berupa pecahan',\n",
    "        'contoh_nilai': df['sepal length'].head(3).tolist(),\n",
    "        'rentang': f\"{df['sepal length'].min():.1f} - {df['sepal length'].max():.1f} cm\"\n",
    "    },\n",
    "    'sepal width': {\n",
    "        'tipe_data': str(df['sepal width'].dtype),\n",
    "        'jenis_variabel': 'Quantitative (Numerik)',\n",
    "        'sub_kategori': 'Continuous',\n",
    "        'deskripsi': 'Nilai kontinu, bisa berupa pecahan',\n",
    "        'contoh_nilai': df['sepal width'].head(3).tolist(),\n",
    "        'rentang': f\"{df['sepal width'].min():.1f} - {df['sepal width'].max():.1f} cm\"\n",
    "    },\n",
    "    'petal length': {\n",
    "        'tipe_data': str(df['petal length'].dtype),\n",
    "        'jenis_variabel': 'Quantitative (Numerik)',\n",
    "        'sub_kategori': 'Continuous',\n",
    "        'deskripsi': 'Nilai kontinu, bisa berupa pecahan',\n",
    "        'contoh_nilai': df['petal length'].head(3).tolist(),\n",
    "        'rentang': f\"{df['petal length'].min():.1f} - {df['petal length'].max():.1f} cm\"\n",
    "    },\n",
    "    'petal width': {\n",
    "        'tipe_data': str(df['petal width'].dtype),\n",
    "        'jenis_variabel': 'Quantitative (Numerik)',\n",
    "        'sub_kategori': 'Continuous',\n",
    "        'deskripsi': 'Nilai kontinu, bisa berupa pecahan',\n",
    "        'contoh_nilai': df['petal width'].head(3).tolist(),\n",
    "        'rentang': f\"{df['petal width'].min():.1f} - {df['petal width'].max():.1f} cm\"\n",
    "    },\n",
    "    'Class': {\n",
    "        'tipe_data': str(df['Class'].dtype),\n",
    "        'jenis_variabel': 'Qualitative (Kategorikal)',\n",
    "        'sub_kategori': 'Discrete (Nominal)',\n",
    "        'deskripsi': 'Kategori nama spesies, tidak ada urutan',\n",
    "        'contoh_nilai': df['Class'].unique().tolist(),\n",
    "        'rentang': f\"{df['Class'].nunique()} kategori\"\n",
    "    }\n",
    "}\n",
    "\n",
    "# Tampilkan analisis setiap variabel\n",
    "for i, (var_name, analysis) in enumerate(variable_analysis.items(), 1):\n",
    "    print(f\"\\n{i}.  VARIABEL: {var_name.upper()}\")\n",
    "    print(f\"   • Tipe Data: {analysis['tipe_data']}\")\n",
    "    print(f\"   • Jenis Variabel: {analysis['jenis_variabel']}\")\n",
    "    print(f\"   • Sub-kategori: {analysis['sub_kategori']}\")\n",
    "    print(f\"   • Deskripsi: {analysis['deskripsi']}\")\n",
    "    print(f\"   • Contoh nilai: {analysis['contoh_nilai']}\")\n",
    "    print(f\"   • Rentang: {analysis['rentang']}\")\n",
    "    print(\"   \" + \"-\"*40)"
   ]
  },
  {
   "cell_type": "markdown",
   "metadata": {},
   "source": [
    "## 1. Nilai Minimum dan Maksimum dari Setiap Kolom"
   ]
  },
  {
   "cell_type": "code",
   "execution_count": 6,
   "metadata": {},
   "outputs": [
    {
     "name": "stdout",
     "output_type": "stream",
     "text": [
      "NILAI MINIMUM DAN MAKSIMUM SETIAP KOLOM\n",
      "==================================================\n",
      "sepal length   : Min = 4.30, Max = 7.90\n",
      "sepal width    : Min = 2.00, Max = 4.40\n",
      "petal length   : Min = 1.00, Max = 6.90\n",
      "petal width    : Min = 0.10, Max = 2.50\n",
      "\n",
      "Tabel Min-Max:\n"
     ]
    },
    {
     "data": {
      "text/html": [
       "<div>\n",
       "<style scoped>\n",
       "    .dataframe tbody tr th:only-of-type {\n",
       "        vertical-align: middle;\n",
       "    }\n",
       "\n",
       "    .dataframe tbody tr th {\n",
       "        vertical-align: top;\n",
       "    }\n",
       "\n",
       "    .dataframe thead th {\n",
       "        text-align: right;\n",
       "    }\n",
       "</style>\n",
       "<table border=\"1\" class=\"dataframe\">\n",
       "  <thead>\n",
       "    <tr style=\"text-align: right;\">\n",
       "      <th></th>\n",
       "      <th>Kolom</th>\n",
       "      <th>Minimum</th>\n",
       "      <th>Maksimum</th>\n",
       "    </tr>\n",
       "  </thead>\n",
       "  <tbody>\n",
       "    <tr>\n",
       "      <th>0</th>\n",
       "      <td>sepal length</td>\n",
       "      <td>4.3</td>\n",
       "      <td>7.9</td>\n",
       "    </tr>\n",
       "    <tr>\n",
       "      <th>1</th>\n",
       "      <td>sepal width</td>\n",
       "      <td>2.0</td>\n",
       "      <td>4.4</td>\n",
       "    </tr>\n",
       "    <tr>\n",
       "      <th>2</th>\n",
       "      <td>petal length</td>\n",
       "      <td>1.0</td>\n",
       "      <td>6.9</td>\n",
       "    </tr>\n",
       "    <tr>\n",
       "      <th>3</th>\n",
       "      <td>petal width</td>\n",
       "      <td>0.1</td>\n",
       "      <td>2.5</td>\n",
       "    </tr>\n",
       "  </tbody>\n",
       "</table>\n",
       "</div>"
      ],
      "text/plain": [
       "          Kolom  Minimum  Maksimum\n",
       "0  sepal length      4.3       7.9\n",
       "1   sepal width      2.0       4.4\n",
       "2  petal length      1.0       6.9\n",
       "3   petal width      0.1       2.5"
      ]
     },
     "execution_count": 6,
     "metadata": {},
     "output_type": "execute_result"
    }
   ],
   "source": [
    "# Hitung min dan max untuk setiap kolom numerik\n",
    "print(\"NILAI MINIMUM DAN MAKSIMUM SETIAP KOLOM\")\n",
    "print(\"=\"*50)\n",
    "\n",
    "for col in numeric_columns:\n",
    "    if col in df.columns:\n",
    "        min_val = df[col].min()\n",
    "        max_val = df[col].max()\n",
    "        print(f\"{col:15}: Min = {min_val:.2f}, Max = {max_val:.2f}\")\n",
    "\n",
    "# Buat DataFrame untuk visualisasi yang lebih rapi\n",
    "min_max_df = pd.DataFrame({\n",
    "    'Kolom': numeric_columns,\n",
    "    'Minimum': [df[col].min() for col in numeric_columns if col in df.columns],\n",
    "    'Maksimum': [df[col].max() for col in numeric_columns if col in df.columns]\n",
    "})\n",
    "\n",
    "print(\"\\nTabel Min-Max:\")\n",
    "min_max_df"
   ]
  },
  {
   "cell_type": "markdown",
   "metadata": {},
   "source": [
    "## 2. Rata-rata dari Setiap Kolom"
   ]
  },
  {
   "cell_type": "code",
   "execution_count": 7,
   "metadata": {},
   "outputs": [
    {
     "name": "stdout",
     "output_type": "stream",
     "text": [
      "RATA-RATA SETIAP KOLOM\n",
      "==============================\n",
      "sepal length   : 5.84\n",
      "sepal width    : 3.05\n",
      "petal length   : 3.76\n",
      "petal width    : 1.20\n",
      "\n",
      "Tabel Rata-rata:\n"
     ]
    },
    {
     "data": {
      "text/html": [
       "<div>\n",
       "<style scoped>\n",
       "    .dataframe tbody tr th:only-of-type {\n",
       "        vertical-align: middle;\n",
       "    }\n",
       "\n",
       "    .dataframe tbody tr th {\n",
       "        vertical-align: top;\n",
       "    }\n",
       "\n",
       "    .dataframe thead th {\n",
       "        text-align: right;\n",
       "    }\n",
       "</style>\n",
       "<table border=\"1\" class=\"dataframe\">\n",
       "  <thead>\n",
       "    <tr style=\"text-align: right;\">\n",
       "      <th></th>\n",
       "      <th>Kolom</th>\n",
       "      <th>Rata-rata</th>\n",
       "    </tr>\n",
       "  </thead>\n",
       "  <tbody>\n",
       "    <tr>\n",
       "      <th>0</th>\n",
       "      <td>sepal length</td>\n",
       "      <td>5.843333</td>\n",
       "    </tr>\n",
       "    <tr>\n",
       "      <th>1</th>\n",
       "      <td>sepal width</td>\n",
       "      <td>3.054000</td>\n",
       "    </tr>\n",
       "    <tr>\n",
       "      <th>2</th>\n",
       "      <td>petal length</td>\n",
       "      <td>3.758667</td>\n",
       "    </tr>\n",
       "    <tr>\n",
       "      <th>3</th>\n",
       "      <td>petal width</td>\n",
       "      <td>1.198667</td>\n",
       "    </tr>\n",
       "  </tbody>\n",
       "</table>\n",
       "</div>"
      ],
      "text/plain": [
       "          Kolom  Rata-rata\n",
       "0  sepal length   5.843333\n",
       "1   sepal width   3.054000\n",
       "2  petal length   3.758667\n",
       "3   petal width   1.198667"
      ]
     },
     "execution_count": 7,
     "metadata": {},
     "output_type": "execute_result"
    }
   ],
   "source": [
    "# Hitung rata-rata untuk setiap kolom numerik\n",
    "print(\"RATA-RATA SETIAP KOLOM\")\n",
    "print(\"=\"*30)\n",
    "\n",
    "for col in numeric_columns:\n",
    "    if col in df.columns:\n",
    "        mean_val = df[col].mean()\n",
    "        print(f\"{col:15}: {mean_val:.2f}\")\n",
    "\n",
    "# Buat DataFrame untuk rata-rata\n",
    "mean_df = pd.DataFrame({\n",
    "    'Kolom': numeric_columns,\n",
    "    'Rata-rata': [df[col].mean() for col in numeric_columns if col in df.columns]\n",
    "})\n",
    "\n",
    "print(\"\\nTabel Rata-rata:\")\n",
    "mean_df"
   ]
  },
  {
   "cell_type": "markdown",
   "metadata": {},
   "source": [
    "## 3. Rata-rata per Kelas"
   ]
  },
  {
   "cell_type": "code",
   "execution_count": 8,
   "metadata": {},
   "outputs": [
    {
     "name": "stdout",
     "output_type": "stream",
     "text": [
      "RATA-RATA SETIAP KOLOM BERDASARKAN KELAS\n",
      "=============================================\n",
      "                 sepal length  sepal width  petal length  petal width\n",
      "Class                                                                \n",
      "Iris-setosa              5.01         3.42          1.46         0.24\n",
      "Iris-versicolor          5.94         2.77          4.26         1.33\n",
      "Iris-virginica           6.59         2.97          5.55         2.03\n"
     ]
    }
   ],
   "source": [
    "# Hitung rata-rata setiap kolom berdasarkan kelas\n",
    "print(\"RATA-RATA SETIAP KOLOM BERDASARKAN KELAS\")\n",
    "print(\"=\"*45)\n",
    "\n",
    "class_means = df.groupby('Class')[numeric_columns].mean()\n",
    "print(class_means.round(2))"
   ]
  },
  {
   "cell_type": "markdown",
   "metadata": {},
   "source": [
    "## 4. Jumlah Setiap Kelas (Grafik Batang)"
   ]
  },
  {
   "cell_type": "code",
   "execution_count": 9,
   "metadata": {},
   "outputs": [
    {
     "name": "stdout",
     "output_type": "stream",
     "text": [
      "JUMLAH SETIAP KELAS:\n",
      "====================\n",
      "Iris-setosa: 50 sampel\n",
      "Iris-versicolor: 50 sampel\n",
      "Iris-virginica: 50 sampel\n",
      "\n",
      "Total sampel: 150\n"
     ]
    }
   ],
   "source": [
    "# Hitung jumlah setiap kelas\n",
    "class_counts = df['Class'].value_counts()\n",
    "print(\"JUMLAH SETIAP KELAS:\")\n",
    "print(\"=\"*20)\n",
    "for class_name, count in class_counts.items():\n",
    "    print(f\"{class_name}: {count} sampel\")\n",
    "\n",
    "print(f\"\\nTotal sampel: {len(df)}\")"
   ]
  },
  {
   "cell_type": "code",
   "execution_count": 10,
   "metadata": {},
   "outputs": [
    {
     "data": {
      "image/png": "[encoded data removed]",
      "text/plain": [
       "<Figure size 1000x600 with 1 Axes>"
      ]
     },
     "metadata": {},
     "output_type": "display_data"
    }
   ],
   "source": [
    "# Buat grafik batang untuk jumlah setiap kelas\n",
    "plt.figure(figsize=(10, 6))\n",
    "\n",
    "# Grafik batang dengan warna yang berbeda\n",
    "bars = plt.bar(class_counts.index, class_counts.values, \n",
    "               color=['#FF6B6B', '#4ECDC4', '#45B7D1'], \n",
    "               edgecolor='black', linewidth=1.2)\n",
    "\n",
    "# Tambahkan nilai di atas setiap batang\n",
    "for bar, value in zip(bars, class_counts.values):\n",
    "    plt.text(bar.get_x() + bar.get_width()/2, bar.get_height() + 0.5, \n",
    "             str(value), ha='center', va='bottom', fontsize=12, fontweight='bold')\n",
    "\n",
    "plt.title('Distribusi Jumlah Setiap Kelas Iris', fontsize=16, fontweight='bold', pad=20)\n",
    "plt.xlabel('Kelas Iris', fontsize=12, fontweight='bold')\n",
    "plt.ylabel('Jumlah Sampel', fontsize=12, fontweight='bold')\n",
    "plt.xticks(rotation=45, ha='right')\n",
    "plt.grid(axis='y', alpha=0.3)\n",
    "plt.tight_layout()\n",
    "plt.show()"
   ]
  },
  {
   "cell_type": "markdown",
   "metadata": {},
   "source": [
    "## 5. Visualisasi Tambahan: Perbandingan Rata-rata per Kolom"
   ]
  },
  {
   "cell_type": "code",
   "execution_count": 11,
   "metadata": {},
   "outputs": [
    {
     "data": {
      "image/png": "[encoded data removed]",
      "text/plain": [
       "<Figure size 1200x600 with 1 Axes>"
      ]
     },
     "metadata": {},
     "output_type": "display_data"
    }
   ],
   "source": [
    "# Grafik batang untuk rata-rata setiap kolom\n",
    "plt.figure(figsize=(12, 6))\n",
    "\n",
    "means = [df[col].mean() for col in numeric_columns if col in df.columns]\n",
    "bars = plt.bar(range(len(numeric_columns)), means, \n",
    "               color=['#FFB6C1', '#98FB98', '#87CEEB', '#DDA0DD'],\n",
    "               edgecolor='black', linewidth=1.2)\n",
    "\n",
    "# Tambahkan nilai di atas setiap batang\n",
    "for bar, value in zip(bars, means):\n",
    "    plt.text(bar.get_x() + bar.get_width()/2, bar.get_height() + 0.05, \n",
    "             f'{value:.2f}', ha='center', va='bottom', fontsize=11, fontweight='bold')\n",
    "\n",
    "plt.title('Rata-rata Setiap Kolom dalam Dataset Iris', fontsize=16, fontweight='bold', pad=20)\n",
    "plt.xlabel('Kolom', fontsize=12, fontweight='bold')\n",
    "plt.ylabel('Nilai Rata-rata', fontsize=12, fontweight='bold')\n",
    "plt.xticks(range(len(numeric_columns)), numeric_columns, rotation=45, ha='right')\n",
    "plt.grid(axis='y', alpha=0.3)\n",
    "plt.tight_layout()\n",
    "plt.show()"
   ]
  },
  {
   "cell_type": "markdown",
   "metadata": {},
   "source": [
    "## 6. Heatmap Rata-rata per Kelas"
   ]
  },
  {
   "cell_type": "code",
   "execution_count": 12,
   "metadata": {},
   "outputs": [
    {
     "data": {
      "image/png": "[encoded data removed]",
      "text/plain": [
       "<Figure size 1000x600 with 2 Axes>"
      ]
     },
     "metadata": {},
     "output_type": "display_data"
    }
   ],
   "source": [
    "# Buat heatmap untuk rata-rata setiap fitur per kelas\n",
    "plt.figure(figsize=(10, 6))\n",
    "\n",
    "sns.heatmap(class_means.T, annot=True, fmt='.2f', cmap='YlOrRd', \n",
    "            cbar_kws={'label': 'Nilai Rata-rata'},\n",
    "            linewidths=0.5)\n",
    "\n",
    "plt.title('Heatmap Rata-rata Setiap Fitur per Kelas Iris', \n",
    "          fontsize=16, fontweight='bold', pad=20)\n",
    "plt.xlabel('Kelas Iris', fontsize=12, fontweight='bold')\n",
    "plt.ylabel('Fitur', fontsize=12, fontweight='bold')\n",
    "plt.xticks(rotation=45, ha='right')\n",
    "plt.yticks(rotation=0)\n",
    "plt.tight_layout()\n",
    "plt.show()"
   ]
  },
  {
   "cell_type": "markdown",
   "metadata": {},
   "source": [
    "## 7. Ringkasan Hasil Eksplorasi"
   ]
  },
  {
   "cell_type": "code",
   "execution_count": 13,
   "metadata": {},
   "outputs": [
    {
     "name": "stdout",
     "output_type": "stream",
     "text": [
      "RINGKASAN HASIL EKSPLORASI DATA IRIS\n",
      "========================================\n",
      "Total sampel: 150\n",
      "Jumlah fitur numerik: 4\n",
      "Jumlah kelas: 3\n",
      "Kelas: Iris-setosa, Iris-versicolor, Iris-virginica\n",
      "\n",
      "Distribusi kelas:\n",
      "  Iris-setosa: 50 sampel (33.3%)\n",
      "  Iris-versicolor: 50 sampel (33.3%)\n",
      "  Iris-virginica: 50 sampel (33.3%)\n",
      "\n",
      "Rentang nilai setiap fitur:\n",
      "  sepal length: 4.30 - 7.90 (rentang: 3.60)\n",
      "  sepal width: 2.00 - 4.40 (rentang: 2.40)\n",
      "  petal length: 1.00 - 6.90 (rentang: 5.90)\n",
      "  petal width: 0.10 - 2.50 (rentang: 2.40)\n"
     ]
    }
   ],
   "source": [
    "print(\"RINGKASAN HASIL EKSPLORASI DATA IRIS\")\n",
    "print(\"=\"*40)\n",
    "print(f\"Total sampel: {len(df)}\")\n",
    "print(f\"Jumlah fitur numerik: {len(numeric_columns)}\")\n",
    "print(f\"Jumlah kelas: {df['Class'].nunique()}\")\n",
    "print(f\"Kelas: {', '.join(df['Class'].unique())}\")\n",
    "\n",
    "print(\"\\nDistribusi kelas:\")\n",
    "for class_name, count in class_counts.items():\n",
    "    percentage = (count / len(df)) * 100\n",
    "    print(f\"  {class_name}: {count} sampel ({percentage:.1f}%)\")\n",
    "\n",
    "print(\"\\nRentang nilai setiap fitur:\")\n",
    "for col in numeric_columns:\n",
    "    if col in df.columns:\n",
    "        min_val = df[col].min()\n",
    "        max_val = df[col].max()\n",
    "        range_val = max_val - min_val\n",
    "        print(f\"  {col}: {min_val:.2f} - {max_val:.2f} (rentang: {range_val:.2f})\")"
   ]
  }
 ],
 "metadata": {
  "kernelspec": {
   "display_name": "base",
   "language": "python",
   "name": "python3"
  },
  "language_info": {
   "codemirror_mode": {
    "name": "ipython",
    "version": 3
   },
   "file_extension": ".py",
   "mimetype": "text/x-python",
   "name": "python",
   "nbconvert_exporter": "python",
   "pygments_lexer": "ipython3",
   "version": "3.10.6"
  }
 },
 "nbformat": 4,
 "nbformat_minor": 4
}