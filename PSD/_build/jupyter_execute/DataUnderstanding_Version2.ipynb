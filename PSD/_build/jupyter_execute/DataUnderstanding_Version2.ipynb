{
 "cells": [
  {
   "cell_type": "markdown",
   "id": "b8f5a2e1",
   "metadata": {},
   "source": [
    "# Data Understanding\n",
    "\n",
    "Notebook ini berisi analisis pemahaman data untuk dataset Iris klasik yang akan digunakan untuk klasifikasi spesies bunga iris."
   ]
  },
  {
   "cell_type": "markdown",
   "id": "c4d2f3a6",
   "metadata": {},
   "source": [
    "## 1. Import Library dan Load Dataset"
   ]
  },
  {
   "cell_type": "code",
   "execution_count": 1,
   "id": "a1b2c3d4",
   "metadata": {},
   "outputs": [
    {
     "name": "stdout",
     "output_type": "stream",
     "text": [
      "Library berhasil diimport\n"
     ]
    }
   ],
   "source": [
    "# Import library yang diperlukan\n",
    "import pandas as pd\n",
    "import numpy as np\n",
    "import matplotlib.pyplot as plt\n",
    "import seaborn as sns\n",
    "from sklearn.datasets import load_iris\n",
    "import warnings\n",
    "warnings.filterwarnings('ignore')\n",
    "\n",
    "# Atur style untuk visualisasi\n",
    "plt.style.use('default')\n",
    "sns.set_palette(\"husl\")\n",
    "\n",
    "print(\"Library berhasil diimport\")"
   ]
  },
  {
   "cell_type": "code",
   "execution_count": 2,
   "id": "e5f6g7h8",
   "metadata": {},
   "outputs": [
    {
     "name": "stdout",
     "output_type": "stream",
     "text": [
      "Dataset Iris berhasil dimuat\n",
      "Ukuran dataset: 150 baris, 6 kolom\n"
     ]
    },
    {
     "data": {
      "text/html": [
       "<div>\n",
       "<style scoped>\n",
       "    .dataframe tbody tr th:only-of-type {\n",
       "        vertical-align: middle;\n",
       "    }\n",
       "\n",
       "    .dataframe tbody tr th {\n",
       "        vertical-align: top;\n",
       "    }\n",
       "\n",
       "    .dataframe thead th {\n",
       "        text-align: right;\n",
       "    }\n",
       "</style>\n",
       "<table border=\"1\" class=\"dataframe\">\n",
       "  <thead>\n",
       "    <tr style=\"text-align: right;\">\n",
       "      <th></th>\n",
       "      <th>sepal length (cm)</th>\n",
       "      <th>sepal width (cm)</th>\n",
       "      <th>petal length (cm)</th>\n",
       "      <th>petal width (cm)</th>\n",
       "      <th>species</th>\n",
       "      <th>species_name</th>\n",
       "    </tr>\n",
       "  </thead>\n",
       "  <tbody>\n",
       "    <tr>\n",
       "      <th>0</th>\n",
       "      <td>5.1</td>\n",
       "      <td>3.5</td>\n",
       "      <td>1.4</td>\n",
       "      <td>0.2</td>\n",
       "      <td>0</td>\n",
       "      <td>setosa</td>\n",
       "    </tr>\n",
       "    <tr>\n",
       "      <th>1</th>\n",
       "      <td>4.9</td>\n",
       "      <td>3.0</td>\n",
       "      <td>1.4</td>\n",
       "      <td>0.2</td>\n",
       "      <td>0</td>\n",
       "      <td>setosa</td>\n",
       "    </tr>\n",
       "    <tr>\n",
       "      <th>2</th>\n",
       "      <td>4.7</td>\n",
       "      <td>3.2</td>\n",
       "      <td>1.3</td>\n",
       "      <td>0.2</td>\n",
       "      <td>0</td>\n",
       "      <td>setosa</td>\n",
       "    </tr>\n",
       "    <tr>\n",
       "      <th>3</th>\n",
       "      <td>4.6</td>\n",
       "      <td>3.1</td>\n",
       "      <td>1.5</td>\n",
       "      <td>0.2</td>\n",
       "      <td>0</td>\n",
       "      <td>setosa</td>\n",
       "    </tr>\n",
       "    <tr>\n",
       "      <th>4</th>\n",
       "      <td>5.0</td>\n",
       "      <td>3.6</td>\n",
       "      <td>1.4</td>\n",
       "      <td>0.2</td>\n",
       "      <td>0</td>\n",
       "      <td>setosa</td>\n",
       "    </tr>\n",
       "  </tbody>\n",
       "</table>\n",
       "</div>"
      ],
      "text/plain": [
       "   sepal length (cm)  sepal width (cm)  petal length (cm)  petal width (cm)  \\\n",
       "0                5.1               3.5                1.4               0.2   \n",
       "1                4.9               3.0                1.4               0.2   \n",
       "2                4.7               3.2                1.3               0.2   \n",
       "3                4.6               3.1                1.5               0.2   \n",
       "4                5.0               3.6                1.4               0.2   \n",
       "\n",
       "   species species_name  \n",
       "0        0       setosa  \n",
       "1        0       setosa  \n",
       "2        0       setosa  \n",
       "3        0       setosa  \n",
       "4        0       setosa  "
      ]
     },
     "execution_count": 2,
     "metadata": {},
     "output_type": "execute_result"
    }
   ],
   "source": [
    "# Load dataset Iris dari sklearn\n",
    "iris_data = load_iris()\n",
    "\n",
    "# Buat DataFrame\n",
    "df = pd.DataFrame(data=iris_data.data, columns=iris_data.feature_names)\n",
    "df['species'] = iris_data.target\n",
    "df['species_name'] = df['species'].map({0: 'setosa', 1: 'versicolor', 2: 'virginica'})\n",
    "\n",
    "print(\"Dataset Iris berhasil dimuat\")\n",
    "print(f\"Ukuran dataset: {df.shape[0]} baris, {df.shape[1]} kolom\")\n",
    "df.head()"
   ]
  },
  {
   "cell_type": "markdown",
   "id": "i9j0k1l2",
   "metadata": {},
   "source": [
    "## 2. Informasi Dasar Dataset"
   ]
  },
  {
   "cell_type": "code",
   "execution_count": 3,
   "id": "m3n4o5p6",
   "metadata": {},
   "outputs": [
    {
     "name": "stdout",
     "output_type": "stream",
     "text": [
      "INFORMASI DATASET IRIS\n",
      "Jumlah sampel: 150\n",
      "Jumlah fitur: 4 (tanpa target)\n",
      "Jumlah kelas: 3\n",
      "Nama kelas: ['setosa', 'versicolor', 'virginica']\n",
      "\n",
      "INFO DATAFRAME\n",
      "<class 'pandas.core.frame.DataFrame'>\n",
      "RangeIndex: 150 entries, 0 to 149\n",
      "Data columns (total 6 columns):\n",
      " #   Column             Non-Null Count  Dtype  \n",
      "---  ------             --------------  -----  \n",
      " 0   sepal length (cm)  150 non-null    float64\n",
      " 1   sepal width (cm)   150 non-null    float64\n",
      " 2   petal length (cm)  150 non-null    float64\n",
      " 3   petal width (cm)   150 non-null    float64\n",
      " 4   species            150 non-null    int32  \n",
      " 5   species_name       150 non-null    object \n",
      "dtypes: float64(4), int32(1), object(1)\n",
      "memory usage: 6.6+ KB\n"
     ]
    }
   ],
   "source": [
    "# Informasi umum dataset\n",
    "print(\"INFORMASI DATASET IRIS\")\n",
    "print(f\"Jumlah sampel: {len(df)}\")\n",
    "print(f\"Jumlah fitur: {len(df.columns)-2} (tanpa target)\")\n",
    "print(f\"Jumlah kelas: {df['species'].nunique()}\")\n",
    "print(f\"Nama kelas: {list(df['species_name'].unique())}\")\n",
    "print(\"\\nINFO DATAFRAME\")\n",
    "df.info()"
   ]
  },
  {
   "cell_type": "code",
   "execution_count": 4,
   "id": "q7r8s9t0",
   "metadata": {},
   "outputs": [
    {
     "name": "stdout",
     "output_type": "stream",
     "text": [
      "DESKRIPSI VARIABEL\n",
      "\n",
      "Fitur-fitur dalam dataset:\n",
      "• sepal length (cm): Panjang sepal (kelopak bunga) dalam cm\n",
      "• sepal width (cm): Lebar sepal (kelopak bunga) dalam cm\n",
      "• petal length (cm): Panjang petal (mahkota bunga) dalam cm\n",
      "• petal width (cm): Lebar petal (mahkota bunga) dalam cm\n",
      "\n",
      "Target variable:\n",
      "• species: Spesies bunga iris (setosa, versicolor, virginica)\n"
     ]
    }
   ],
   "source": [
    "# Deskripsi variabel\n",
    "print(\"DESKRIPSI VARIABEL\")\n",
    "print(\"\\nFitur-fitur dalam dataset:\")\n",
    "feature_descriptions = {\n",
    "    'sepal length (cm)': 'Panjang sepal (kelopak bunga) dalam cm',\n",
    "    'sepal width (cm)': 'Lebar sepal (kelopak bunga) dalam cm', \n",
    "    'petal length (cm)': 'Panjang petal (mahkota bunga) dalam cm',\n",
    "    'petal width (cm)': 'Lebar petal (mahkota bunga) dalam cm'\n",
    "}\n",
    "\n",
    "for feature, description in feature_descriptions.items():\n",
    "    print(f\"• {feature}: {description}\")\n",
    "    \n",
    "print(\"\\nTarget variable:\")\n",
    "print(\"• species: Spesies bunga iris (setosa, versicolor, virginica)\")"
   ]
  },
  {
   "cell_type": "markdown",
   "id": "new_section_types",
   "metadata": {},
   "source": [
    "## 3. Mengecek Tipe Data dan Jenis Variabel"
   ]
  },
  {
   "cell_type": "code",
   "execution_count": 5,
   "id": "check_data_types",
   "metadata": {},
   "outputs": [
    {
     "name": "stdout",
     "output_type": "stream",
     "text": [
      "CEK TIPE DATA SETIAP KOLOM\n",
      "\n",
      "Tipe data dalam dataset:\n",
      "sepal length (cm)    float64\n",
      "sepal width (cm)     float64\n",
      "petal length (cm)    float64\n",
      "petal width (cm)     float64\n",
      "species                int32\n",
      "species_name          object\n",
      "dtype: object\n"
     ]
    }
   ],
   "source": [
    "# Cek tipe data setiap kolom\n",
    "print(\"CEK TIPE DATA SETIAP KOLOM\")\n",
    "print(\"\\nTipe data dalam dataset:\")\n",
    "print(df.dtypes)"
   ]
  },
  {
   "cell_type": "code",
   "execution_count": 6,
   "id": "variable_types_analysis",
   "metadata": {},
   "outputs": [
    {
     "name": "stdout",
     "output_type": "stream",
     "text": [
      "KLASIFIKASI JENIS VARIABEL\n",
      "\n",
      "Teori Jenis Variabel:\n",
      "• Quantitative (Numerik): Nilai angka, bisa dihitung\n",
      "• Qualitative (Kategorikal): Klasifikasi atau kategori\n",
      "• Discrete: Nilai terpisah (tanpa nilai antara)\n",
      "• Continuous: Nilai kontinu (bisa pecahan)\n",
      "\n",
      "ANALISIS VARIABEL DATASET IRIS\n",
      "\n",
      "1. VARIABEL: SEPAL LENGTH (CM)\n",
      "   • Tipe Data: float64\n",
      "   • Jenis Variabel: Quantitative (Numerik)\n",
      "   • Sub-kategori: Continuous\n",
      "   • Deskripsi: Nilai kontinu, bisa berupa pecahan\n",
      "   • Contoh nilai: [5.1, 4.9, 4.7]\n",
      "   • Rentang: 4.3 - 7.9 cm\n",
      "\n",
      "2. VARIABEL: SEPAL WIDTH (CM)\n",
      "   • Tipe Data: float64\n",
      "   • Jenis Variabel: Quantitative (Numerik)\n",
      "   • Sub-kategori: Continuous\n",
      "   • Deskripsi: Nilai kontinu, bisa berupa pecahan\n",
      "   • Contoh nilai: [3.5, 3.0, 3.2]\n",
      "   • Rentang: 2.0 - 4.4 cm\n",
      "\n",
      "3. VARIABEL: PETAL LENGTH (CM)\n",
      "   • Tipe Data: float64\n",
      "   • Jenis Variabel: Quantitative (Numerik)\n",
      "   • Sub-kategori: Continuous\n",
      "   • Deskripsi: Nilai kontinu, bisa berupa pecahan\n",
      "   • Contoh nilai: [1.4, 1.4, 1.3]\n",
      "   • Rentang: 1.0 - 6.9 cm\n",
      "\n",
      "4. VARIABEL: PETAL WIDTH (CM)\n",
      "   • Tipe Data: float64\n",
      "   • Jenis Variabel: Quantitative (Numerik)\n",
      "   • Sub-kategori: Continuous\n",
      "   • Deskripsi: Nilai kontinu, bisa berupa pecahan\n",
      "   • Contoh nilai: [0.2, 0.2, 0.2]\n",
      "   • Rentang: 0.1 - 2.5 cm\n",
      "\n",
      "5. VARIABEL: SPECIES\n",
      "   • Tipe Data: int32\n",
      "   • Jenis Variabel: Qualitative (Kategorikal)\n",
      "   • Sub-kategori: Discrete (Nominal)\n",
      "   • Deskripsi: Kategori terpisah, tidak ada urutan\n",
      "   • Contoh nilai: [0, 1, 2]\n",
      "   • Rentang: 3 kategori (0, 1, 2)\n",
      "\n",
      "6. VARIABEL: SPECIES_NAME\n",
      "   • Tipe Data: object\n",
      "   • Jenis Variabel: Qualitative (Kategorikal)\n",
      "   • Sub-kategori: Discrete (Nominal)\n",
      "   • Deskripsi: Kategori nama spesies, tidak ada urutan\n",
      "   • Contoh nilai: ['setosa', 'versicolor', 'virginica']\n",
      "   • Rentang: 3 kategori\n"
     ]
    }
   ],
   "source": [
    "# Analisis jenis variabel berdasarkan klasifikasi\n",
    "print(\"KLASIFIKASI JENIS VARIABEL\")\n",
    "print(\"\\nTeori Jenis Variabel:\")\n",
    "print(\"• Quantitative (Numerik): Nilai angka, bisa dihitung\")\n",
    "print(\"• Qualitative (Kategorikal): Klasifikasi atau kategori\")\n",
    "print(\"• Discrete: Nilai terpisah (tanpa nilai antara)\")\n",
    "print(\"• Continuous: Nilai kontinu (bisa pecahan)\")\n",
    "\n",
    "print(\"\\nANALISIS VARIABEL DATASET IRIS\")\n",
    "\n",
    "# Analisis setiap variabel\n",
    "variable_analysis = {\n",
    "    'sepal length (cm)': {\n",
    "        'tipe_data': str(df['sepal length (cm)'].dtype),\n",
    "        'jenis_variabel': 'Quantitative (Numerik)',\n",
    "        'sub_kategori': 'Continuous',\n",
    "        'deskripsi': 'Nilai kontinu, bisa berupa pecahan',\n",
    "        'contoh_nilai': df['sepal length (cm)'].head(3).tolist(),\n",
    "        'rentang': f\"{df['sepal length (cm)'].min():.1f} - {df['sepal length (cm)'].max():.1f} cm\"\n",
    "    },\n",
    "    'sepal width (cm)': {\n",
    "        'tipe_data': str(df['sepal width (cm)'].dtype),\n",
    "        'jenis_variabel': 'Quantitative (Numerik)',\n",
    "        'sub_kategori': 'Continuous',\n",
    "        'deskripsi': 'Nilai kontinu, bisa berupa pecahan',\n",
    "        'contoh_nilai': df['sepal width (cm)'].head(3).tolist(),\n",
    "        'rentang': f\"{df['sepal width (cm)'].min():.1f} - {df['sepal width (cm)'].max():.1f} cm\"\n",
    "    },\n",
    "    'petal length (cm)': {\n",
    "        'tipe_data': str(df['petal length (cm)'].dtype),\n",
    "        'jenis_variabel': 'Quantitative (Numerik)',\n",
    "        'sub_kategori': 'Continuous',\n",
    "        'deskripsi': 'Nilai kontinu, bisa berupa pecahan',\n",
    "        'contoh_nilai': df['petal length (cm)'].head(3).tolist(),\n",
    "        'rentang': f\"{df['petal length (cm)'].min():.1f} - {df['petal length (cm)'].max():.1f} cm\"\n",
    "    },\n",
    "    'petal width (cm)': {\n",
    "        'tipe_data': str(df['petal width (cm)'].dtype),\n",
    "        'jenis_variabel': 'Quantitative (Numerik)',\n",
    "        'sub_kategori': 'Continuous',\n",
    "        'deskripsi': 'Nilai kontinu, bisa berupa pecahan',\n",
    "        'contoh_nilai': df['petal width (cm)'].head(3).tolist(),\n",
    "        'rentang': f\"{df['petal width (cm)'].min():.1f} - {df['petal width (cm)'].max():.1f} cm\"\n",
    "    },\n",
    "    'species': {\n",
    "        'tipe_data': str(df['species'].dtype),\n",
    "        'jenis_variabel': 'Qualitative (Kategorikal)',\n",
    "        'sub_kategori': 'Discrete (Nominal)',\n",
    "        'deskripsi': 'Kategori terpisah, tidak ada urutan',\n",
    "        'contoh_nilai': df['species'].unique().tolist(),\n",
    "        'rentang': f\"{df['species'].nunique()} kategori (0, 1, 2)\"\n",
    "    },\n",
    "    'species_name': {\n",
    "        'tipe_data': str(df['species_name'].dtype),\n",
    "        'jenis_variabel': 'Qualitative (Kategorikal)',\n",
    "        'sub_kategori': 'Discrete (Nominal)',\n",
    "        'deskripsi': 'Kategori nama spesies, tidak ada urutan',\n",
    "        'contoh_nilai': df['species_name'].unique().tolist(),\n",
    "        'rentang': f\"{df['species_name'].nunique()} kategori\"\n",
    "    }\n",
    "}\n",
    "\n",
    "# Tampilkan analisis setiap variabel\n",
    "for i, (var_name, analysis) in enumerate(variable_analysis.items(), 1):\n",
    "    print(f\"\\n{i}. VARIABEL: {var_name.upper()}\")\n",
    "    print(f\"   • Tipe Data: {analysis['tipe_data']}\")\n",
    "    print(f\"   • Jenis Variabel: {analysis['jenis_variabel']}\")\n",
    "    print(f\"   • Sub-kategori: {analysis['sub_kategori']}\")\n",
    "    print(f\"   • Deskripsi: {analysis['deskripsi']}\")\n",
    "    print(f\"   • Contoh nilai: {analysis['contoh_nilai']}\")\n",
    "    print(f\"   • Rentang: {analysis['rentang']}\")"
   ]
  },
  {
   "cell_type": "markdown",
   "id": "u1v2w3x4",
   "metadata": {},
   "source": [
    "## 4. Eksplorasi Data Awal"
   ]
  },
  {
   "cell_type": "code",
   "execution_count": 7,
   "id": "y5z6a7b8",
   "metadata": {},
   "outputs": [
    {
     "name": "stdout",
     "output_type": "stream",
     "text": [
      "STATISTIK DESKRIPTIF\n",
      "       sepal length (cm)  sepal width (cm)  petal length (cm)  \\\n",
      "count             150.00            150.00             150.00   \n",
      "mean                5.84              3.06               3.76   \n",
      "std                 0.83              0.44               1.77   \n",
      "min                 4.30              2.00               1.00   \n",
      "25%                 5.10              2.80               1.60   \n",
      "50%                 5.80              3.00               4.35   \n",
      "75%                 6.40              3.30               5.10   \n",
      "max                 7.90              4.40               6.90   \n",
      "\n",
      "       petal width (cm)  species  \n",
      "count            150.00   150.00  \n",
      "mean               1.20     1.00  \n",
      "std                0.76     0.82  \n",
      "min                0.10     0.00  \n",
      "25%                0.30     0.00  \n",
      "50%                1.30     1.00  \n",
      "75%                1.80     2.00  \n",
      "max                2.50     2.00  \n"
     ]
    }
   ],
   "source": [
    "# Statistik deskriptif\n",
    "print(\"STATISTIK DESKRIPTIF\")\n",
    "stats = df.describe()\n",
    "print(stats.round(2))"
   ]
  },
  {
   "cell_type": "code",
   "execution_count": 8,
   "id": "c9d0e1f2",
   "metadata": {},
   "outputs": [
    {
     "name": "stdout",
     "output_type": "stream",
     "text": [
      "DISTRIBUSI KELAS\n",
      "species_name\n",
      "setosa        50\n",
      "versicolor    50\n",
      "virginica     50\n",
      "Name: count, dtype: int64\n",
      "\n",
      "Persentase:\n",
      "• setosa: 33.3%\n",
      "• versicolor: 33.3%\n",
      "• virginica: 33.3%\n"
     ]
    }
   ],
   "source": [
    "# Distribusi kelas\n",
    "print(\"DISTRIBUSI KELAS\")\n",
    "class_counts = df['species_name'].value_counts()\n",
    "print(class_counts)\n",
    "print(\"\\nPersentase:\")\n",
    "class_percentage = df['species_name'].value_counts(normalize=True) * 100\n",
    "for species, percentage in class_percentage.items():\n",
    "    print(f\"• {species}: {percentage:.1f}%\")"
   ]
  },
  {
   "cell_type": "code",
   "execution_count": 9,
   "id": "g3h4i5j6",
   "metadata": {},
   "outputs": [
    {
     "name": "stdout",
     "output_type": "stream",
     "text": [
      "CEK MISSING VALUES\n",
      "sepal length (cm)    0\n",
      "sepal width (cm)     0\n",
      "petal length (cm)    0\n",
      "petal width (cm)     0\n",
      "species              0\n",
      "species_name         0\n",
      "dtype: int64\n",
      "\n",
      "Dataset tidak memiliki missing values\n"
     ]
    }
   ],
   "source": [
    "# Cek missing values\n",
    "print(\"CEK MISSING VALUES\")\n",
    "missing_values = df.isnull().sum()\n",
    "print(missing_values)\n",
    "\n",
    "if missing_values.sum() == 0:\n",
    "    print(\"\\nDataset tidak memiliki missing values\")\n",
    "else:\n",
    "    print(f\"\\nTotal missing values: {missing_values.sum()}\")"
   ]
  },
  {
   "cell_type": "code",
   "execution_count": 10,
   "id": "k7l8m9n0",
   "metadata": {},
   "outputs": [
    {
     "name": "stdout",
     "output_type": "stream",
     "text": [
      "CEK DUPLIKASI DATA\n",
      "Jumlah baris duplikat: 1\n",
      "Terdapat 1 baris duplikat\n"
     ]
    }
   ],
   "source": [
    "# Cek duplikasi data\n",
    "print(\"CEK DUPLIKASI DATA\")\n",
    "duplicates = df.duplicated().sum()\n",
    "print(f\"Jumlah baris duplikat: {duplicates}\")\n",
    "\n",
    "if duplicates == 0:\n",
    "    print(\"Tidak ada data duplikat\")\n",
    "else:\n",
    "    print(f\"Terdapat {duplicates} baris duplikat\")"
   ]
  },
  {
   "cell_type": "markdown",
   "id": "o1p2q3r4",
   "metadata": {},
   "source": [
    "## 5. Analisis Distribusi Data"
   ]
  },
  {
   "cell_type": "code",
   "execution_count": 11,
   "id": "s5t6u7v8",
   "metadata": {},
   "outputs": [
    {
     "data": {
      "image/png": "[encoded data removed]",
      "text/plain": [
       "<Figure size 1200x800 with 4 Axes>"
      ]
     },
     "metadata": {},
     "output_type": "display_data"
    }
   ],
   "source": [
    "# Visualisasi distribusi fitur\n",
    "fig, axes = plt.subplots(2, 2, figsize=(12, 8))\n",
    "fig.suptitle('Distribusi Fitur Dataset Iris', fontsize=16, fontweight='bold')\n",
    "\n",
    "features = ['sepal length (cm)', 'sepal width (cm)', 'petal length (cm)', 'petal width (cm)']\n",
    "colors = ['skyblue', 'lightgreen', 'salmon', 'plum']\n",
    "\n",
    "for i, (feature, color) in enumerate(zip(features, colors)):\n",
    "    row = i // 2\n",
    "    col = i % 2\n",
    "    \n",
    "    axes[row, col].hist(df[feature], bins=15, color=color, alpha=0.7, edgecolor='black')\n",
    "    axes[row, col].set_title(f'Distribusi {feature.split(\"(\")[0].strip().title()}')\n",
    "    axes[row, col].set_xlabel(feature)\n",
    "    axes[row, col].set_ylabel('Frekuensi')\n",
    "    axes[row, col].grid(True, alpha=0.3)\n",
    "\n",
    "plt.tight_layout()\n",
    "plt.show()"
   ]
  },
  {
   "cell_type": "markdown",
   "id": "kesimpulan",
   "metadata": {},
   "source": [
    "## 6. Kesimpulan\n",
    "\n",
    "### Ringkasan Dataset Iris:\n",
    "\n",
    "1. **Ukuran Dataset**: 150 sampel dengan 4 fitur\n",
    "2. **Jenis Variabel**: Semua fitur adalah quantitative continuous\n",
    "3. **Target**: 3 kelas spesies iris yang seimbang (50 sampel per kelas)\n",
    "4. **Kualitas Data**: Tidak ada missing values, hanya 1 duplikat\n",
    "5. **Distribusi**: Data terdistribusi dengan baik untuk setiap fitur\n",
    "\n",
    "Dataset ini siap untuk digunakan dalam analisis machine learning selanjutnya."
   ]
  }
 ],
 "metadata": {
  "kernelspec": {
   "display_name": "base",
   "language": "python",
   "name": "python3"
  },
  "language_info": {
   "codemirror_mode": {
    "name": "ipython",
    "version": 3
   },
   "file_extension": ".py",
   "mimetype": "text/x-python",
   "name": "python",
   "nbconvert_exporter": "python",
   "pygments_lexer": "ipython3",
   "version": "3.10.6"
  }
 },
 "nbformat": 4,
 "nbformat_minor": 5
}